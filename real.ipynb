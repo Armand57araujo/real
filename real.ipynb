{
 "cells": [
  {
   "cell_type": "code",
   "execution_count": 2,
   "metadata": {},
   "outputs": [
    {
     "ename": "ModuleNotFoundError",
     "evalue": "No module named 'openai'",
     "output_type": "error",
     "traceback": [
      "\u001b[0;31m---------------------------------------------------------------------------\u001b[0m",
      "\u001b[0;31mModuleNotFoundError\u001b[0m                       Traceback (most recent call last)",
      "\u001b[1;32m/Users/armandaraujo/Desktop/real/real.ipynb Cell 1\u001b[0m line \u001b[0;36m3\n\u001b[1;32m      <a href='vscode-notebook-cell:/Users/armandaraujo/Desktop/real/real.ipynb#W0sZmlsZQ%3D%3D?line=0'>1</a>\u001b[0m \u001b[39mimport\u001b[39;00m \u001b[39mrequests\u001b[39;00m\n\u001b[1;32m      <a href='vscode-notebook-cell:/Users/armandaraujo/Desktop/real/real.ipynb#W0sZmlsZQ%3D%3D?line=1'>2</a>\u001b[0m \u001b[39mimport\u001b[39;00m \u001b[39mos\u001b[39;00m\n\u001b[0;32m----> <a href='vscode-notebook-cell:/Users/armandaraujo/Desktop/real/real.ipynb#W0sZmlsZQ%3D%3D?line=2'>3</a>\u001b[0m \u001b[39mimport\u001b[39;00m \u001b[39mopenai\u001b[39;00m\n\u001b[1;32m      <a href='vscode-notebook-cell:/Users/armandaraujo/Desktop/real/real.ipynb#W0sZmlsZQ%3D%3D?line=3'>4</a>\u001b[0m \u001b[39mimport\u001b[39;00m \u001b[39mconcurrent\u001b[39;00m\u001b[39m.\u001b[39;00m\u001b[39mfutures\u001b[39;00m\n\u001b[1;32m      <a href='vscode-notebook-cell:/Users/armandaraujo/Desktop/real/real.ipynb#W0sZmlsZQ%3D%3D?line=4'>5</a>\u001b[0m \u001b[39mimport\u001b[39;00m \u001b[39mtime\u001b[39;00m\n",
      "\u001b[0;31mModuleNotFoundError\u001b[0m: No module named 'openai'"
     ]
    }
   ],
   "source": [
    "# import requests\n",
    "# import os\n",
    "# import openai\n",
    "# import concurrent.futures\n",
    "# import time\n",
    "# from tqdm import tqdm\n",
    "# from torchvision import transforms\n",
    "# from sklearn.model_selection import train_test_split\n",
    "# import torch\n",
    "# import torch.nn as nn\n",
    "# import torch.optim as optim\n",
    "# from torch.utils.data import DataLoader\n",
    "# import time\n",
    "# import wandb\n",
    "# import sys\n",
    "\n",
    "\n"
   ]
  },
  {
   "cell_type": "code",
   "execution_count": null,
   "metadata": {},
   "outputs": [],
   "source": [
    "# def download_unsplash_photos(client_id, save_dir, num_photos):\n",
    "#     os.makedirs(save_dir, exist_ok=True)\n",
    "#     url = \"https://api.unsplash.com/photos/random\"\n",
    "#     headers = {\n",
    "#         \"Authorization\": f\"Client-ID {client_id}\",\n",
    "#         \"Accept-Version\": \"v1\"\n",
    "#     }\n",
    "#     params = {\n",
    "#         \"count\": 30,  # Maximum allowed per request\n",
    "#         \"query\": \"stock photo\"\n",
    "#     }\n",
    "#     response = requests.get(url, headers=headers, params=params)\n",
    "#     photos = response.json()\n",
    "    \n",
    "#     for photo in photos:\n",
    "#         img_url = photo['urls']['regular']\n",
    "#         img_data = requests.get(img_url).content\n",
    "#         img_name = os.path.join(save_dir, f\"{photo['id']}.jpg\")\n",
    "#         with open(img_name, 'wb') as f:\n",
    "#             f.write(img_data)"
   ]
  },
  {
   "cell_type": "code",
   "execution_count": null,
   "metadata": {},
   "outputs": [
    {
     "ename": "NameError",
     "evalue": "name 'response' is not defined",
     "output_type": "error",
     "traceback": [
      "\u001b[0;31m---------------------------------------------------------------------------\u001b[0m",
      "\u001b[0;31mNameError\u001b[0m                                 Traceback (most recent call last)",
      "\u001b[1;32m/Users/armandaraujo/Desktop/real/real.ipynb Cell 3\u001b[0m line \u001b[0;36m1\n\u001b[0;32m----> <a href='vscode-notebook-cell:/Users/armandaraujo/Desktop/real/real.ipynb#X13sZmlsZQ%3D%3D?line=0'>1</a>\u001b[0m photos \u001b[39m=\u001b[39m response\u001b[39m.\u001b[39mjson()\n\u001b[1;32m      <a href='vscode-notebook-cell:/Users/armandaraujo/Desktop/real/real.ipynb#X13sZmlsZQ%3D%3D?line=1'>2</a>\u001b[0m \u001b[39mprint\u001b[39m(photos)\n",
      "\u001b[0;31mNameError\u001b[0m: name 'response' is not defined"
     ]
    }
   ],
   "source": [
    "photos = response.json()\n",
    "print(photos)  # Check the structure of the data\n"
   ]
  },
  {
   "cell_type": "code",
   "execution_count": null,
   "metadata": {},
   "outputs": [
    {
     "ename": "TypeError",
     "evalue": "string indices must be integers",
     "output_type": "error",
     "traceback": [
      "\u001b[0;31m---------------------------------------------------------------------------\u001b[0m",
      "\u001b[0;31mTypeError\u001b[0m                                 Traceback (most recent call last)",
      "\u001b[1;32m/Users/armandaraujo/Desktop/real/real.ipynb Cell 4\u001b[0m line \u001b[0;36m1\n\u001b[0;32m----> <a href='vscode-notebook-cell:/Users/armandaraujo/Desktop/real/real.ipynb#W0sZmlsZQ%3D%3D?line=0'>1</a>\u001b[0m download_unsplash_photos(\u001b[39m'\u001b[39;49m\u001b[39myour_unsplash_client_id\u001b[39;49m\u001b[39m'\u001b[39;49m, \u001b[39m'\u001b[39;49m\u001b[39munsplash_photos\u001b[39;49m\u001b[39m'\u001b[39;49m, \u001b[39m100\u001b[39;49m)\n",
      "\u001b[1;32m/Users/armandaraujo/Desktop/real/real.ipynb Cell 4\u001b[0m line \u001b[0;36m1\n\u001b[1;32m     <a href='vscode-notebook-cell:/Users/armandaraujo/Desktop/real/real.ipynb#W0sZmlsZQ%3D%3D?line=12'>13</a>\u001b[0m photos \u001b[39m=\u001b[39m response\u001b[39m.\u001b[39mjson()\n\u001b[1;32m     <a href='vscode-notebook-cell:/Users/armandaraujo/Desktop/real/real.ipynb#W0sZmlsZQ%3D%3D?line=14'>15</a>\u001b[0m \u001b[39mfor\u001b[39;00m photo \u001b[39min\u001b[39;00m photos:\n\u001b[0;32m---> <a href='vscode-notebook-cell:/Users/armandaraujo/Desktop/real/real.ipynb#W0sZmlsZQ%3D%3D?line=15'>16</a>\u001b[0m     img_url \u001b[39m=\u001b[39m photo[\u001b[39m'\u001b[39;49m\u001b[39murls\u001b[39;49m\u001b[39m'\u001b[39;49m][\u001b[39m'\u001b[39m\u001b[39mregular\u001b[39m\u001b[39m'\u001b[39m]\n\u001b[1;32m     <a href='vscode-notebook-cell:/Users/armandaraujo/Desktop/real/real.ipynb#W0sZmlsZQ%3D%3D?line=16'>17</a>\u001b[0m     img_data \u001b[39m=\u001b[39m requests\u001b[39m.\u001b[39mget(img_url)\u001b[39m.\u001b[39mcontent\n\u001b[1;32m     <a href='vscode-notebook-cell:/Users/armandaraujo/Desktop/real/real.ipynb#W0sZmlsZQ%3D%3D?line=17'>18</a>\u001b[0m     img_name \u001b[39m=\u001b[39m os\u001b[39m.\u001b[39mpath\u001b[39m.\u001b[39mjoin(save_dir, \u001b[39mf\u001b[39m\u001b[39m\"\u001b[39m\u001b[39m{\u001b[39;00mphoto[\u001b[39m'\u001b[39m\u001b[39mid\u001b[39m\u001b[39m'\u001b[39m]\u001b[39m}\u001b[39;00m\u001b[39m.jpg\u001b[39m\u001b[39m\"\u001b[39m)\n",
      "\u001b[0;31mTypeError\u001b[0m: string indices must be integers"
     ]
    }
   ],
   "source": [
    "download_unsplash_photos('your_unsplash_client_id', 'unsplash_photos', 100)"
   ]
  },
  {
   "cell_type": "code",
   "execution_count": null,
   "metadata": {},
   "outputs": [
    {
     "ename": "NameError",
     "evalue": "name 'openai' is not defined",
     "output_type": "error",
     "traceback": [
      "\u001b[0;31m---------------------------------------------------------------------------\u001b[0m",
      "\u001b[0;31mNameError\u001b[0m                                 Traceback (most recent call last)",
      "\u001b[1;32m/Users/armandaraujo/Desktop/real/real.ipynb Cell 5\u001b[0m line \u001b[0;36m1\n\u001b[0;32m----> <a href='vscode-notebook-cell:/Users/armandaraujo/Desktop/real/real.ipynb#W3sZmlsZQ%3D%3D?line=0'>1</a>\u001b[0m openai\u001b[39m.\u001b[39mapi_key \u001b[39m=\u001b[39m \u001b[39m'\u001b[39m\u001b[39myour_openai_api_key\u001b[39m\u001b[39m'\u001b[39m\n\u001b[1;32m      <a href='vscode-notebook-cell:/Users/armandaraujo/Desktop/real/real.ipynb#W3sZmlsZQ%3D%3D?line=2'>3</a>\u001b[0m \u001b[39mdef\u001b[39;00m \u001b[39mgenerate_dalle_images\u001b[39m(num_images, save_dir):\n\u001b[1;32m      <a href='vscode-notebook-cell:/Users/armandaraujo/Desktop/real/real.ipynb#W3sZmlsZQ%3D%3D?line=3'>4</a>\u001b[0m     os\u001b[39m.\u001b[39mmakedirs(save_dir, exist_ok\u001b[39m=\u001b[39m\u001b[39mTrue\u001b[39;00m)\n",
      "\u001b[0;31mNameError\u001b[0m: name 'openai' is not defined"
     ]
    }
   ],
   "source": [
    "# openai.api_key = 'OPEN_API_KEY'\n",
    "\n",
    "# def generate_dalle_images(num_images, save_dir):\n",
    "#     os.makedirs(save_dir, exist_ok=True)\n",
    "#     for i in range(num_images):\n",
    "#         response = openai.Image.create(prompt=\"stock photo\", n=1, size=\"1024x1024\")\n",
    "#         img_url = response['data'][0]['url']\n",
    "#         img_data = requests.get(img_url).content\n",
    "#         with open(f\"{save_dir}/dalle_{i}.jpg\", 'wb') as f:\n",
    "#             f.write(img_data)\n",
    "\n",
    "# generate_dalle_images(100, 'dalle_images')"
   ]
  },
  {
   "cell_type": "code",
   "execution_count": null,
   "metadata": {},
   "outputs": [
    {
     "ename": "NameError",
     "evalue": "name 'sys' is not defined",
     "output_type": "error",
     "traceback": [
      "\u001b[0;31m---------------------------------------------------------------------------\u001b[0m",
      "\u001b[0;31mNameError\u001b[0m                                 Traceback (most recent call last)",
      "\u001b[1;32m/Users/armandaraujo/Desktop/real/real.ipynb Cell 6\u001b[0m line \u001b[0;36m1\n\u001b[0;32m----> <a href='vscode-notebook-cell:/Users/armandaraujo/Desktop/real/real.ipynb#X14sZmlsZQ%3D%3D?line=0'>1</a>\u001b[0m \u001b[39mprint\u001b[39m(sys\u001b[39m.\u001b[39mexecutable)\n",
      "\u001b[0;31mNameError\u001b[0m: name 'sys' is not defined"
     ]
    }
   ],
   "source": [
    "print(sys.executable)"
   ]
  },
  {
   "cell_type": "code",
   "execution_count": null,
   "metadata": {},
   "outputs": [],
   "source": [
    "# def download_batch(source, count):\n",
    "#     downloaded = 0\n",
    "#     while downloaded < count:\n",
    "#         try:\n",
    "#             # Example download process (adjust based on actual API)\n",
    "#             downloaded += 1\n",
    "#         except Exception as e:\n",
    "#             print(f\"Error: {e}\")\n",
    "#     return downloaded\n",
    "\n",
    "# sources = {'unsplash': 100, 'pexels': 100, 'flickr': 100}\n",
    "# with concurrent.futures.ThreadPoolExecutor(max_workers=5) as executor:\n",
    "#     futures = [executor.submit(download_batch, source, count) for source, count in sources.items()]\n",
    "#     for future in tqdm(concurrent.futures.as_completed(futures), total=len(futures)):\n",
    "#         result = future.result()\n",
    "#         print(f\"Completed batch with {result} downloads\")"
   ]
  },
  {
   "cell_type": "code",
   "execution_count": null,
   "metadata": {},
   "outputs": [
    {
     "ename": "NameError",
     "evalue": "name 'transforms' is not defined",
     "output_type": "error",
     "traceback": [
      "\u001b[0;31m---------------------------------------------------------------------------\u001b[0m",
      "\u001b[0;31mNameError\u001b[0m                                 Traceback (most recent call last)",
      "\u001b[1;32m/Users/armandaraujo/Desktop/real/real.ipynb Cell 6\u001b[0m line \u001b[0;36m1\n\u001b[0;32m----> <a href='vscode-notebook-cell:/Users/armandaraujo/Desktop/real/real.ipynb#W5sZmlsZQ%3D%3D?line=0'>1</a>\u001b[0m transform_augment \u001b[39m=\u001b[39m transforms\u001b[39m.\u001b[39mCompose([\n\u001b[1;32m      <a href='vscode-notebook-cell:/Users/armandaraujo/Desktop/real/real.ipynb#W5sZmlsZQ%3D%3D?line=1'>2</a>\u001b[0m     transforms\u001b[39m.\u001b[39mRandomHorizontalFlip(),\n\u001b[1;32m      <a href='vscode-notebook-cell:/Users/armandaraujo/Desktop/real/real.ipynb#W5sZmlsZQ%3D%3D?line=2'>3</a>\u001b[0m     transforms\u001b[39m.\u001b[39mRandomRotation(\u001b[39m10\u001b[39m),\n\u001b[1;32m      <a href='vscode-notebook-cell:/Users/armandaraujo/Desktop/real/real.ipynb#W5sZmlsZQ%3D%3D?line=3'>4</a>\u001b[0m     transforms\u001b[39m.\u001b[39mColorJitter(brightness\u001b[39m=\u001b[39m\u001b[39m0.2\u001b[39m, contrast\u001b[39m=\u001b[39m\u001b[39m0.2\u001b[39m),\n\u001b[1;32m      <a href='vscode-notebook-cell:/Users/armandaraujo/Desktop/real/real.ipynb#W5sZmlsZQ%3D%3D?line=4'>5</a>\u001b[0m     transforms\u001b[39m.\u001b[39mRandomResizedCrop(\u001b[39m224\u001b[39m, scale\u001b[39m=\u001b[39m(\u001b[39m0.8\u001b[39m, \u001b[39m1.0\u001b[39m)),\n\u001b[1;32m      <a href='vscode-notebook-cell:/Users/armandaraujo/Desktop/real/real.ipynb#W5sZmlsZQ%3D%3D?line=5'>6</a>\u001b[0m     transforms\u001b[39m.\u001b[39mToTensor(),\n\u001b[1;32m      <a href='vscode-notebook-cell:/Users/armandaraujo/Desktop/real/real.ipynb#W5sZmlsZQ%3D%3D?line=6'>7</a>\u001b[0m     transforms\u001b[39m.\u001b[39mNormalize(mean\u001b[39m=\u001b[39m[\u001b[39m0.485\u001b[39m, \u001b[39m0.456\u001b[39m, \u001b[39m0.406\u001b[39m], std\u001b[39m=\u001b[39m[\u001b[39m0.229\u001b[39m, \u001b[39m0.224\u001b[39m, \u001b[39m0.225\u001b[39m])\n\u001b[1;32m      <a href='vscode-notebook-cell:/Users/armandaraujo/Desktop/real/real.ipynb#W5sZmlsZQ%3D%3D?line=7'>8</a>\u001b[0m ])\n",
      "\u001b[0;31mNameError\u001b[0m: name 'transforms' is not defined"
     ]
    }
   ],
   "source": [
    "# transform_augment = transforms.Compose([\n",
    "#     transforms.RandomHorizontalFlip(),\n",
    "#     transforms.RandomRotation(10),\n",
    "#     transforms.ColorJitter(brightness=0.2, contrast=0.2),\n",
    "#     transforms.RandomResizedCrop(224, scale=(0.8, 1.0)),\n",
    "#     transforms.ToTensor(),\n",
    "#     transforms.Normalize(mean=[0.485, 0.456, 0.406], std=[0.229, 0.224, 0.225])\n",
    "# ])"
   ]
  },
  {
   "cell_type": "code",
   "execution_count": null,
   "metadata": {},
   "outputs": [
    {
     "ename": "NameError",
     "evalue": "name 'train_test_split' is not defined",
     "output_type": "error",
     "traceback": [
      "\u001b[0;31m---------------------------------------------------------------------------\u001b[0m",
      "\u001b[0;31mNameError\u001b[0m                                 Traceback (most recent call last)",
      "\u001b[1;32m/Users/armandaraujo/Desktop/real/real.ipynb Cell 7\u001b[0m line \u001b[0;36m1\n\u001b[0;32m----> <a href='vscode-notebook-cell:/Users/armandaraujo/Desktop/real/real.ipynb#W6sZmlsZQ%3D%3D?line=0'>1</a>\u001b[0m train_paths, temp_paths, train_labels, temp_labels \u001b[39m=\u001b[39m train_test_split(image_paths, labels, test_size\u001b[39m=\u001b[39m\u001b[39m0.3\u001b[39m, random_state\u001b[39m=\u001b[39m\u001b[39m42\u001b[39m)\n\u001b[1;32m      <a href='vscode-notebook-cell:/Users/armandaraujo/Desktop/real/real.ipynb#W6sZmlsZQ%3D%3D?line=1'>2</a>\u001b[0m val_paths, test_paths, val_labels, test_labels \u001b[39m=\u001b[39m train_test_split(temp_paths, temp_labels, test_size\u001b[39m=\u001b[39m\u001b[39m0.5\u001b[39m, random_state\u001b[39m=\u001b[39m\u001b[39m42\u001b[39m)\n",
      "\u001b[0;31mNameError\u001b[0m: name 'train_test_split' is not defined"
     ]
    }
   ],
   "source": [
    "train_paths, temp_paths, train_labels, temp_labels = train_test_split(image_paths, labels, test_size=0.3, random_state=42)\n",
    "val_paths, test_paths, val_labels, test_labels = train_test_split(temp_paths, temp_labels, test_size=0.5, random_state=42)"
   ]
  },
  {
   "cell_type": "code",
   "execution_count": null,
   "metadata": {},
   "outputs": [
    {
     "ename": "NameError",
     "evalue": "name 'nn' is not defined",
     "output_type": "error",
     "traceback": [
      "\u001b[0;31m---------------------------------------------------------------------------\u001b[0m",
      "\u001b[0;31mNameError\u001b[0m                                 Traceback (most recent call last)",
      "\u001b[1;32m/Users/armandaraujo/Desktop/real/real.ipynb Cell 8\u001b[0m line \u001b[0;36m1\n\u001b[0;32m----> <a href='vscode-notebook-cell:/Users/armandaraujo/Desktop/real/real.ipynb#X10sZmlsZQ%3D%3D?line=0'>1</a>\u001b[0m \u001b[39mclass\u001b[39;00m \u001b[39mStockPhotoDetector\u001b[39;00m(nn\u001b[39m.\u001b[39mModule):\n\u001b[1;32m      <a href='vscode-notebook-cell:/Users/armandaraujo/Desktop/real/real.ipynb#X10sZmlsZQ%3D%3D?line=1'>2</a>\u001b[0m     \u001b[39mdef\u001b[39;00m \u001b[39m__init__\u001b[39m(\u001b[39mself\u001b[39m):\n\u001b[1;32m      <a href='vscode-notebook-cell:/Users/armandaraujo/Desktop/real/real.ipynb#X10sZmlsZQ%3D%3D?line=2'>3</a>\u001b[0m         \u001b[39msuper\u001b[39m(StockPhotoDetector, \u001b[39mself\u001b[39m)\u001b[39m.\u001b[39m\u001b[39m__init__\u001b[39m()\n",
      "\u001b[0;31mNameError\u001b[0m: name 'nn' is not defined"
     ]
    }
   ],
   "source": [
    "class StockPhotoDetector(nn.Module):\n",
    "    def __init__(self):\n",
    "        super(StockPhotoDetector, self).__init__()\n",
    "\n",
    "        self.conv_layers = nn.Sequential(\n",
    "            nn.Conv2d(3, 32, kernel_size=3, padding=1),\n",
    "            nn.ReLU(),\n",
    "            nn.MaxPool2d(2),\n",
    "            \n",
    "            nn.Conv2d(32, 64, kernel_size=3, padding=1),\n",
    "            nn.ReLU(),\n",
    "            nn.MaxPool2d(2),\n",
    "            \n",
    "            nn.Conv2d(64, 128, kernel_size=3, padding=1),\n",
    "            nn.ReLU(),\n",
    "            nn.MaxPool2d(2)\n",
    "        )\n",
    "\n",
    "        self.fc_layers = nn.Sequential(\n",
    "            nn.Linear(128 * 28 * 28, 512),\n",
    "            nn.ReLU(),\n",
    "            nn.Dropout(0.5),\n",
    "            nn.Linear(512, 2)  # 2 classes: Real vs AI-generated\n",
    "        )\n",
    "\n",
    "    def forward(self, x):\n",
    "        x = self.conv_layers(x)\n",
    "        x = x.view(x.size(0), -1)  # Flatten\n",
    "        x = self.fc_layers(x)\n",
    "        return x"
   ]
  },
  {
   "cell_type": "code",
   "execution_count": null,
   "metadata": {},
   "outputs": [],
   "source": [
    "# def train_model(model, train_loader, val_loader, num_epochs=10, device='cuda'):\n",
    "#     criterion = nn.CrossEntropyLoss()\n",
    "#     optimizer = optim.Adam(model.parameters(), lr=0.001)\n",
    "\n",
    "#     scheduler = optim.lr_scheduler.ReduceLROnPlateau(optimizer, mode='min', patience=3, factor=0.1)\n",
    "#     best_val_accuracy = 0.0\n",
    "#     best_model_path = 'best_model.pth'\n",
    "\n",
    "#     model = model.to(device)\n",
    "#     wandb.init(project=\"stock-photo-detector\", name=\"training_run_v1\")\n",
    "\n",
    "#     for epoch in range(num_epochs):\n",
    "#         model.train()\n",
    "#         running_loss = 0.0\n",
    "#         correct = 0\n",
    "#         total = 0\n",
    "        \n",
    "#         for images, labels in tqdm(train_loader, desc=f\"Epoch {epoch+1}/{num_epochs}\"):\n",
    "#             images, labels = images.to(device), labels.to(device)\n",
    "#             optimizer.zero_grad()\n",
    "#             outputs = model(images)\n",
    "#             loss = criterion(outputs, labels)\n",
    "#             loss.backward()\n",
    "#             optimizer.step()\n",
    "\n",
    "#             running_loss += loss.item()\n",
    "#             _, predicted = torch.max(outputs, 1)\n",
    "#             total += labels.size(0)\n",
    "#             correct += (predicted == labels).sum().item()\n",
    "\n",
    "#         # Validation\n",
    "#         model.eval()\n",
    "#         val_loss = 0.0\n",
    "#         correct_val = 0\n",
    "#         total_val = 0\n",
    "\n",
    "#         with torch.no_grad():\n",
    "#             for images, labels in val_loader:\n",
    "#                 images, labels = images.to(device), labels.to(device)\n",
    "#                 outputs = model(images)\n",
    "#                 loss = criterion(outputs, labels)\n",
    "#                 val_loss += loss.item()\n",
    "#                 _, predicted = torch.max(outputs, 1)\n",
    "#                 total_val += labels.size(0)\n",
    "#                 correct_val += (predicted == labels).sum().item()\n",
    "\n",
    "#         val_accuracy = correct_val / total_val\n",
    "#         print(f\"Train Loss: {running_loss / len(train_loader):.4f}, Val Accuracy: {val_accuracy:.4f}\")\n",
    "\n",
    "#         if val_accuracy > best_val_accuracy:\n",
    "#             best_val_accuracy = val_accuracy\n",
    "#             torch.save(model.state_dict(), best_model_path)\n",
    "#             print(f\"Saved Best Model at Epoch {epoch+1}\")\n",
    "\n",
    "#         scheduler.step(val_loss)"
   ]
  },
  {
   "cell_type": "code",
   "execution_count": null,
   "metadata": {},
   "outputs": [],
   "source": [
    "# def evaluate_model(model, test_loader, device='cuda'):\n",
    "#     model.eval()\n",
    "#     correct = 0\n",
    "#     total = 0\n",
    "#     with torch.no_grad():\n",
    "#         for images, labels in test_loader:\n",
    "#             images, labels = images.to(device), labels.to(device)\n",
    "#             outputs = model(images)\n",
    "#             _, predicted = torch.max(outputs, 1)\n",
    "#             total += labels.size(0)\n",
    "#             correct += (predicted == labels).sum().item()\n",
    "\n",
    "#     accuracy = correct / total\n",
    "#     print(f\"Test Accuracy: {accuracy:.4f}\")"
   ]
  }
 ],
 "metadata": {
  "kernelspec": {
   "display_name": "dev",
   "language": "python",
   "name": "python3"
  },
  "language_info": {
   "codemirror_mode": {
    "name": "ipython",
    "version": 3
   },
   "file_extension": ".py",
   "mimetype": "text/x-python",
   "name": "python",
   "nbconvert_exporter": "python",
   "pygments_lexer": "ipython3",
   "version": "3.10.14"
  },
  "orig_nbformat": 4
 },
 "nbformat": 4,
 "nbformat_minor": 2
}
